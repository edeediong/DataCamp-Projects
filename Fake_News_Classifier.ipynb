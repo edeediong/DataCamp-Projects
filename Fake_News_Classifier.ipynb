{
  "nbformat": 4,
  "nbformat_minor": 0,
  "metadata": {
    "colab": {
      "name": "Fake News Classifier.ipynb",
      "version": "0.3.2",
      "provenance": [],
      "collapsed_sections": [],
      "include_colab_link": true
    },
    "kernelspec": {
      "name": "python3",
      "display_name": "Python 3"
    }
  },
  "cells": [
    {
      "cell_type": "markdown",
      "metadata": {
        "id": "view-in-github",
        "colab_type": "text"
      },
      "source": [
        "<a href=\"https://colab.research.google.com/github/edeediong/DataCamp-Projects/blob/Kontrol/Fake_News_Classifier.ipynb\" target=\"_parent\"><img src=\"https://colab.research.google.com/assets/colab-badge.svg\" alt=\"Open In Colab\"/></a>"
      ]
    },
    {
      "metadata": {
        "id": "9q5xorP6V2m9",
        "colab_type": "text"
      },
      "cell_type": "markdown",
      "source": [
        ""
      ]
    },
    {
      "metadata": {
        "id": "FHM3j5cSVz9V",
        "colab_type": "code",
        "colab": {}
      },
      "cell_type": "code",
      "source": [
        ""
      ],
      "execution_count": 0,
      "outputs": []
    },
    {
      "metadata": {
        "id": "NS7aQSWmWZFZ",
        "colab_type": "text"
      },
      "cell_type": "markdown",
      "source": [
        "# **Training and testing the \"fake news\" model with TfidfVectorizer**\n",
        "\n",
        "---\n",
        "\n"
      ]
    },
    {
      "metadata": {
        "id": "To_7C-6DVy90",
        "colab_type": "text"
      },
      "cell_type": "markdown",
      "source": [
        "# **Instructions**\n",
        "\n",
        "* Instantiate a MultinomialNB classifier called nb_classifier.\n",
        "* Fit the classifier to the training data.\n",
        "* Compute the predicted tags for the test data.\n",
        "* Calculate and print the accuracy score of the classifier.\n",
        "* Compute the confusion matrix. As in the previous exercise, specify the keyword argument labels=['FAKE', 'REAL'] so that the resulting confusion matrix is easier to read."
      ]
    },
    {
      "metadata": {
        "id": "Sd4Er1-_VxOR",
        "colab_type": "code",
        "colab": {}
      },
      "cell_type": "code",
      "source": [
        "# Create a Multinomial Naive Bayes classifier: nb_classifier\n",
        "nb_classifier = MultinomialNB()\n",
        "\n",
        "# Fit the classifier to the training data\n",
        "trsinfit = nb_classifier.fit(tfidf_train,y_train)\n",
        "\n",
        "# Create the predicted tags: pred\n",
        "pred = nb_classifier.predict(tfidf_test)\n",
        "\n",
        "# Calculate the accuracy score: score\n",
        "score = metrics.accuracy_score(y_test,pred)\n",
        "print(score)\n",
        "\n",
        "# Calculate the confusion matrix: cm\n",
        "cm = metrics.confusion_matrix(y_test,pred,labels = ['FAKE','REAL'])\n",
        "print(cm)\n"
      ],
      "execution_count": 0,
      "outputs": []
    },
    {
      "metadata": {
        "id": "l5MPz5IZVNMk",
        "colab_type": "text"
      },
      "cell_type": "markdown",
      "source": [
        "# **Instructions**\n",
        "\n",
        "* Create a list of alphas to try using np.arange(). Values should range from 0 to 1 with steps of 0.1.\n",
        "\n",
        "* Create a function train_and_predict() that takes in one argument: alpha. The function should:\n",
        "    *  Instantiate a MultinomialNB classifier with alpha=alpha.\n",
        "    * Fit it to the training data.\n",
        "    * Compute predictions on the test data.\n",
        "    * Compute and return the accuracy score.\n",
        "* Using a for loop, print the alpha, score and a newline in between. Use your train_and_predict() function to compute the score. Does the score change along with the alpha? What is the best alpha?"
      ]
    },
    {
      "metadata": {
        "id": "mSK-oREjTpLI",
        "colab_type": "code",
        "colab": {}
      },
      "cell_type": "code",
      "source": [
        "# Create the list of alphas: alphas\n",
        "alphas = np.arange(0,1,0.1)\n",
        "\n",
        "# Define train_and_predict()\n",
        "def train_and_predict(alphas):\n",
        "    # Instantiate the classifier: nb_classifier\n",
        "    nb_classifier = MultinomialNB(alpha=alpha)\n",
        "    # Fit to the training data\n",
        "    nb_classifier.fit(tfidf_train,y_train)\n",
        "    # Predict the labels: pred\n",
        "    pred = nb_classifier.predict(tfidf_test)\n",
        "    # Compute accuracy: score\n",
        "    score = metrics.accuracy_score(y_test,pred)\n",
        "    return score\n",
        "\n",
        "# Iterate over the alphas and print the corresponding score\n",
        "for alpha in alphas:\n",
        "    print('Alpha: ', alpha)\n",
        "    print('Score: ', train_and_predict(0.1))\n",
        "    print()\n"
      ],
      "execution_count": 0,
      "outputs": []
    },
    {
      "metadata": {
        "id": "C7qsSLbSULC3",
        "colab_type": "text"
      },
      "cell_type": "markdown",
      "source": [
        "# **Instructions**\n",
        "\n",
        "* Save the class labels as class_labels by accessing the .classes_ attribute of nb_classifier.\n",
        "\n",
        "* Extract the features using the .get_feature_names() method of tfidf_vectorizer.\n",
        "\n",
        "* Create a zipped array of the classifier coefficients with the feature names and sort them by the coefficients. To do this, first use zip() with the arguments nb_classifier.coef_[0] and feature_names. Then, use sorted() on this.\n",
        "\n",
        "* Print the top 20 weighted features for the first label of class_labels.\n",
        "\n",
        "* Print the bottom 20 weighted features for the second label of class_labels."
      ]
    },
    {
      "metadata": {
        "id": "q1pZu-QTTrTh",
        "colab_type": "code",
        "colab": {}
      },
      "cell_type": "code",
      "source": [
        "# Get the class labels: class_labels\n",
        "class_labels = nb_classifier.classes_\n",
        "\n",
        "# Extract the features: feature_names\n",
        "feature_names = tfidf_vectorizer.get_feature_names()\n",
        "\n",
        "# Zip the feature names together with the coefficient array and sort by weights: feat_with_weights\n",
        "feat_with_weights = sorted(zip(nb_classifier.coef_[0], feature_names))\n",
        "\n",
        "# Print the first class label and the top 20 feat_with_weights entries\n",
        "print(class_labels[0], feat_with_weights[:20])\n",
        "\n",
        "# Print the second class label and the bottom 20 feat_with_weights entries\n",
        "print(class_labels[1], feat_with_weights[-20:])"
      ],
      "execution_count": 0,
      "outputs": []
    }
  ]
}